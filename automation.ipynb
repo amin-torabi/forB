{
 "cells": [
  {
   "cell_type": "code",
   "execution_count": 1,
   "metadata": {},
   "outputs": [],
   "source": [
    "import os\n",
    "import numpy as np\n",
    "import pandas as pd\n",
    "import shutil\n",
    "pd.set_option(\"display.max_rows\", None)\n",
    "pd.set_option(\"display.max_columns\", None)"
   ]
  },
  {
   "cell_type": "code",
   "execution_count": 4,
   "metadata": {},
   "outputs": [],
   "source": [
    "# reads excel\n",
    "\n",
    "filepath = \"./05-EPI-025 - Run 1.xlsx\"\n",
    "\n",
    "if os.path.exists(filepath):\n",
    "    file = pd.ExcelFile(filepath)\n",
    "else:\n",
    "    print(\"the path does not exists\")"
   ]
  },
  {
   "cell_type": "code",
   "execution_count": 6,
   "metadata": {},
   "outputs": [],
   "source": [
    "# compiles all tabs\n",
    "\n",
    "sheet_names = file.sheet_names\n",
    "\n",
    "raw_data = pd.DataFrame()\n",
    "\n",
    "for sheet in sheet_names:\n",
    "    df = pd.read_excel(filepath, sheet_name=sheet, index_col=0, header=None).dropna(how=\"all\")\n",
    "    df.columns = df.iloc[0]\n",
    "    df = df[1:].reset_index(drop=True)\n",
    "    df.insert(0, \"Sheet\", sheet)\n",
    "    \n",
    "    raw_data = pd.concat([raw_data, df])\n",
    "    \n",
    "    del df"
   ]
  },
  {
   "cell_type": "code",
   "execution_count": 7,
   "metadata": {},
   "outputs": [
    {
     "data": {
      "text/html": [
       "<div>\n",
       "<style scoped>\n",
       "    .dataframe tbody tr th:only-of-type {\n",
       "        vertical-align: middle;\n",
       "    }\n",
       "\n",
       "    .dataframe tbody tr th {\n",
       "        vertical-align: top;\n",
       "    }\n",
       "\n",
       "    .dataframe thead th {\n",
       "        text-align: right;\n",
       "    }\n",
       "</style>\n",
       "<table border=\"1\" class=\"dataframe\">\n",
       "  <thead>\n",
       "    <tr style=\"text-align: right;\">\n",
       "      <th></th>\n",
       "      <th>Sheet</th>\n",
       "      <th>Name</th>\n",
       "      <th>RT (min)</th>\n",
       "      <th>% Area</th>\n",
       "      <th>Base peak (m/z)</th>\n",
       "      <th>Retention Time</th>\n",
       "      <th>Base Peak</th>\n",
       "    </tr>\n",
       "  </thead>\n",
       "  <tbody>\n",
       "    <tr>\n",
       "      <th>0</th>\n",
       "      <td>A1</td>\n",
       "      <td>NaN</td>\n",
       "      <td>0.495</td>\n",
       "      <td>15.2</td>\n",
       "      <td>79.15</td>\n",
       "      <td>NaN</td>\n",
       "      <td>NaN</td>\n",
       "    </tr>\n",
       "    <tr>\n",
       "      <th>1</th>\n",
       "      <td>A1</td>\n",
       "      <td>NaN</td>\n",
       "      <td>3.471</td>\n",
       "      <td>0.22</td>\n",
       "      <td>233.38</td>\n",
       "      <td>NaN</td>\n",
       "      <td>NaN</td>\n",
       "    </tr>\n",
       "    <tr>\n",
       "      <th>2</th>\n",
       "      <td>A1</td>\n",
       "      <td>NaN</td>\n",
       "      <td>4.3</td>\n",
       "      <td>16.6</td>\n",
       "      <td>217.4</td>\n",
       "      <td>NaN</td>\n",
       "      <td>NaN</td>\n",
       "    </tr>\n",
       "    <tr>\n",
       "      <th>3</th>\n",
       "      <td>A1</td>\n",
       "      <td>E192</td>\n",
       "      <td>4.6</td>\n",
       "      <td>NaN</td>\n",
       "      <td>NaN</td>\n",
       "      <td>NaN</td>\n",
       "      <td>NaN</td>\n",
       "    </tr>\n",
       "    <tr>\n",
       "      <th>4</th>\n",
       "      <td>A1</td>\n",
       "      <td>NaN</td>\n",
       "      <td>4.603</td>\n",
       "      <td>27.72</td>\n",
       "      <td>302.42</td>\n",
       "      <td>NaN</td>\n",
       "      <td>NaN</td>\n",
       "    </tr>\n",
       "  </tbody>\n",
       "</table>\n",
       "</div>"
      ],
      "text/plain": [
       "  Sheet  Name RT (min) % Area Base peak (m/z) Retention Time Base Peak\n",
       "0    A1   NaN    0.495   15.2           79.15            NaN       NaN\n",
       "1    A1   NaN    3.471   0.22          233.38            NaN       NaN\n",
       "2    A1   NaN      4.3   16.6           217.4            NaN       NaN\n",
       "3    A1  E192      4.6    NaN             NaN            NaN       NaN\n",
       "4    A1   NaN    4.603  27.72          302.42            NaN       NaN"
      ]
     },
     "execution_count": 7,
     "metadata": {},
     "output_type": "execute_result"
    }
   ],
   "source": [
    "raw_data.head()"
   ]
  },
  {
   "cell_type": "code",
   "execution_count": 8,
   "metadata": {},
   "outputs": [],
   "source": [
    "raw_data.fillna(0, inplace=True)\n",
    "raw_data[\"RT (min)\"] = raw_data[\"RT (min)\"] + raw_data[\"Retention Time\"]\n",
    "raw_data[\"Base peak (m/z)\"] = raw_data[\"Base peak (m/z)\"] + raw_data[\"Base Peak\"]\n",
    "raw_data.drop([\"Retention Time\", \"Base Peak\"], axis=1, inplace=True)"
   ]
  },
  {
   "cell_type": "code",
   "execution_count": 9,
   "metadata": {},
   "outputs": [
    {
     "data": {
      "text/html": [
       "<div>\n",
       "<style scoped>\n",
       "    .dataframe tbody tr th:only-of-type {\n",
       "        vertical-align: middle;\n",
       "    }\n",
       "\n",
       "    .dataframe tbody tr th {\n",
       "        vertical-align: top;\n",
       "    }\n",
       "\n",
       "    .dataframe thead th {\n",
       "        text-align: right;\n",
       "    }\n",
       "</style>\n",
       "<table border=\"1\" class=\"dataframe\">\n",
       "  <thead>\n",
       "    <tr style=\"text-align: right;\">\n",
       "      <th></th>\n",
       "      <th>Sheet</th>\n",
       "      <th>Name</th>\n",
       "      <th>RT (min)</th>\n",
       "      <th>% Area</th>\n",
       "      <th>Base peak (m/z)</th>\n",
       "    </tr>\n",
       "  </thead>\n",
       "  <tbody>\n",
       "    <tr>\n",
       "      <th>0</th>\n",
       "      <td>A1</td>\n",
       "      <td>0</td>\n",
       "      <td>0.495</td>\n",
       "      <td>15.20</td>\n",
       "      <td>79.15</td>\n",
       "    </tr>\n",
       "    <tr>\n",
       "      <th>1</th>\n",
       "      <td>A1</td>\n",
       "      <td>0</td>\n",
       "      <td>3.471</td>\n",
       "      <td>0.22</td>\n",
       "      <td>233.38</td>\n",
       "    </tr>\n",
       "    <tr>\n",
       "      <th>2</th>\n",
       "      <td>A1</td>\n",
       "      <td>0</td>\n",
       "      <td>4.300</td>\n",
       "      <td>16.60</td>\n",
       "      <td>217.40</td>\n",
       "    </tr>\n",
       "    <tr>\n",
       "      <th>3</th>\n",
       "      <td>A1</td>\n",
       "      <td>E192</td>\n",
       "      <td>4.600</td>\n",
       "      <td>0.00</td>\n",
       "      <td>0.00</td>\n",
       "    </tr>\n",
       "    <tr>\n",
       "      <th>4</th>\n",
       "      <td>A1</td>\n",
       "      <td>0</td>\n",
       "      <td>4.603</td>\n",
       "      <td>27.72</td>\n",
       "      <td>302.42</td>\n",
       "    </tr>\n",
       "  </tbody>\n",
       "</table>\n",
       "</div>"
      ],
      "text/plain": [
       "  Sheet  Name  RT (min)  % Area  Base peak (m/z)\n",
       "0    A1     0     0.495   15.20            79.15\n",
       "1    A1     0     3.471    0.22           233.38\n",
       "2    A1     0     4.300   16.60           217.40\n",
       "3    A1  E192     4.600    0.00             0.00\n",
       "4    A1     0     4.603   27.72           302.42"
      ]
     },
     "execution_count": 9,
     "metadata": {},
     "output_type": "execute_result"
    }
   ],
   "source": [
    "raw_data.head()"
   ]
  },
  {
   "cell_type": "code",
   "execution_count": 10,
   "metadata": {},
   "outputs": [],
   "source": [
    "# renames & changes types\n",
    "\n",
    "raw_data.columns = [i.strip() for i in raw_data.columns]\n",
    "\n",
    "convert_dict = {\n",
    "    'RT (min)': float, \n",
    "    'Base peak (m/z)': float,\n",
    "    '% Area': float\n",
    "} \n",
    "\n",
    "raw_data = raw_data.astype(convert_dict)\n",
    "\n",
    "raw_data[\"Base peak (m/z)\"] = raw_data[\"Base peak (m/z)\"].round(0).astype(float)"
   ]
  },
  {
   "cell_type": "code",
   "execution_count": 11,
   "metadata": {},
   "outputs": [],
   "source": [
    "# filters for area\n",
    "\n",
    "area_cutoff = 0.1\n",
    "raw_data_sel = raw_data.loc[raw_data[\"% Area\"] >= area_cutoff]"
   ]
  },
  {
   "cell_type": "code",
   "execution_count": 12,
   "metadata": {},
   "outputs": [],
   "source": [
    "# finds rt_range based on min_rt & max_rt\n",
    "\n",
    "rt_interval = 0.05\n",
    "\n",
    "min_rt = raw_data_sel[\"RT (min)\"].min()\n",
    "max_rt = raw_data_sel[\"RT (min)\"].max()\n",
    "rt_range = np.arange(min_rt, max_rt, rt_interval)"
   ]
  },
  {
   "cell_type": "code",
   "execution_count": 13,
   "metadata": {},
   "outputs": [
    {
     "name": "stdout",
     "output_type": "stream",
     "text": [
      "CPU times: user 873 ms, sys: 6.74 ms, total: 880 ms\n",
      "Wall time: 881 ms\n"
     ]
    }
   ],
   "source": [
    "%%time\n",
    "all_data = pd.DataFrame()\n",
    "\n",
    "for rt in rt_range:\n",
    "    rt_lower_bound = round(rt, 2)\n",
    "    rt_upper_bound = round(rt + rt_interval, 2)\n",
    "    rt_range_text = \"{:.2f}-{:.2f}\".format(rt_lower_bound, rt_upper_bound)\n",
    "    \n",
    "    df = raw_data_sel.loc[(raw_data_sel[\"RT (min)\"] >= rt_lower_bound) & (raw_data_sel[\"RT (min)\"] < rt_upper_bound)].copy()\n",
    "    df[\"rt_range\"] = rt_range_text\n",
    "    df.reset_index(drop=True, inplace=True)\n",
    "    df.set_index(\"Sheet\", inplace=True)\n",
    "    unique_base_peak = sorted(df[\"Base peak (m/z)\"].unique())\n",
    "\n",
    "    for base_peak in unique_base_peak:\n",
    "        df2 = df.loc[df[\"Base peak (m/z)\"] == base_peak, [\"% Area\"]]\n",
    "        df2.columns = pd.MultiIndex.from_product([\n",
    "            [\"rt_range: {}\".format(rt_range_text)],\n",
    "            [\"Base peak: {}\".format(base_peak)]])\n",
    "                \n",
    "        df3 = df2.groupby(df2.index).sum()\n",
    "        \n",
    "        if all_data.shape[0] == 0:\n",
    "            all_data = df3\n",
    "        else:\n",
    "            all_data = pd.merge(\n",
    "                left=all_data,\n",
    "                right=df3,\n",
    "                left_index=True, \n",
    "                right_index=True,\n",
    "                how = \"outer\")\n",
    "        \n",
    "        del df2, df3\n",
    "\n",
    "    del df"
   ]
  },
  {
   "cell_type": "code",
   "execution_count": 14,
   "metadata": {},
   "outputs": [],
   "source": [
    "# reorders indexes\n",
    "\n",
    "new_indexes = [j[::-1] for j in sorted([i[::-1] for i in all_data.index])]\n",
    "final_dataset = all_data.loc[new_indexes]"
   ]
  },
  {
   "cell_type": "code",
   "execution_count": 15,
   "metadata": {},
   "outputs": [],
   "source": [
    "# saves to excel\n",
    "\n",
    "filename, extension = os.path.splitext(filepath)\n",
    "dest_filepath = \"{}_res{}\".format(filename, extension)\n",
    "\n",
    "with pd.ExcelWriter(dest_filepath) as writer:\n",
    "    final_dataset.to_excel(\n",
    "        writer, \n",
    "        sheet_name=\"all_auto\", \n",
    "        index=True, \n",
    "        freeze_panes=(3, 1),        \n",
    "    )"
   ]
  }
 ],
 "metadata": {
  "kernelspec": {
   "display_name": "Python 3",
   "language": "python",
   "name": "python3"
  },
  "language_info": {
   "codemirror_mode": {
    "name": "ipython",
    "version": 3
   },
   "file_extension": ".py",
   "mimetype": "text/x-python",
   "name": "python",
   "nbconvert_exporter": "python",
   "pygments_lexer": "ipython3",
   "version": "3.7.6"
  }
 },
 "nbformat": 4,
 "nbformat_minor": 4
}
